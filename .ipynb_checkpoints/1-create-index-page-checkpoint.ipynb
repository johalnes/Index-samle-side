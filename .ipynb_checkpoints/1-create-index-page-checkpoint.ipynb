{
 "cells": [
  {
   "cell_type": "code",
   "execution_count": 1,
   "metadata": {},
   "outputs": [],
   "source": [
    "import jinja2\n",
    "from jinja2 import Template, FileSystemLoader, Environment\n",
    "import os\n"
   ]
  },
  {
   "cell_type": "markdown",
   "metadata": {},
   "source": [
    "### Create template.html\n",
    "\n",
    "Fil med design, header og som er konstant.\n",
    "\n",
    "Legg merke til {block content}"
   ]
  },
  {
   "cell_type": "code",
   "execution_count": 13,
   "metadata": {},
   "outputs": [],
   "source": [
    "layout = r\"\"\"<!DOCTYPE html>\n",
    "<html lang=\"en\">\n",
    "<head>\n",
    "  <!-- Theme Made By www.w3schools.com - No Copyright -->\n",
    "  <title>Bootstrap Theme Simply Me</title>\n",
    "  <meta charset=\"utf-8\">\n",
    "  <meta name=\"viewport\" content=\"width=device-width, initial-scale=1\">\n",
    "  <link rel=\"stylesheet\" href=\"https://maxcdn.bootstrapcdn.com/bootstrap/3.4.1/css/bootstrap.min.css\">\n",
    "  <script src=\"https://ajax.googleapis.com/ajax/libs/jquery/3.4.1/jquery.min.js\"></script>\n",
    "  <script src=\"https://maxcdn.bootstrapcdn.com/bootstrap/3.4.1/js/bootstrap.min.js\"></script>\n",
    "  <style>\n",
    "  .bg-1 { \n",
    "    background-color: #0099ff;\n",
    "    color: #ffffff;\n",
    "  }\n",
    "  .bg-2 { \n",
    "    background-color: #474e5d;\n",
    "    color: #ffffff;\n",
    "  }\n",
    "  .bg-3 { \n",
    "    background-color: #ffffff;\n",
    "    color: #555555;\n",
    "  }\n",
    "  .container-fluid {\n",
    "    padding-top: 70px;\n",
    "    padding-bottom: 70px;\n",
    "  }\n",
    "  .bg-4 {\n",
    "  background-color: #959595;\n",
    "  color: #ffffff;\n",
    "}\n",
    "  </style>\n",
    "</head>\n",
    "<body>\n",
    "\n",
    "<div class=\"container-fluid bg-1 text-center\">\n",
    "  <h3>Gjensidige - Philips modell team</h3>\n",
    "  <img src=\"https://www.walktoexplore.com/wp-content/uploads/2018/06/gjensidige_hovedlogo_rgb-1.jpg\" class=\"img-circle\" alt=\"Bird\" width=\"350\" height=\"350\">\n",
    "  <h3>Dokumentasjonsside</h3>\n",
    "</div>\n",
    "    \n",
    "\n",
    "{% block content %}{% endblock %}\n",
    "    \n",
    "\n",
    "<script src=\"http://code.jquery.com/jquery-1.10.2.min.js\"></script>\n",
    "<script src=\"http://netdna.bootstrapcdn.com/bootstrap/3.0.0/js/bootstrap.min.js\"></script>\n",
    "  </body>\n",
    "  <footer class=\"container-fluid bg-4 text-center\">\n",
    "  <p> All dokumentasjon på denne siden er Gjensidige sin intelektuelle property  </p>\n",
    "  <p>Bootstrap Theme Made By <a href=\"https://www.w3schools.com\">www.w3schools.com</a></p>\n",
    "</footer>\n",
    "</html>\n",
    "\"\"\""
   ]
  },
  {
   "cell_type": "code",
   "execution_count": 14,
   "metadata": {},
   "outputs": [],
   "source": [
    "with open(os.path.join('templates','layout.html'), 'w') as file:\n",
    "    file.write(layout)"
   ]
  },
  {
   "cell_type": "markdown",
   "metadata": {},
   "source": [
    "### Finner alle mapper som inneholder index.html"
   ]
  },
  {
   "cell_type": "code",
   "execution_count": 15,
   "metadata": {
    "scrolled": false
   },
   "outputs": [
    {
     "name": "stdout",
     "output_type": "stream",
     "text": [
      "./UW-API/Description.ini\n",
      "./TLL-api-bolig/Description.ini\n",
      "./TLL-api-bolig har forklaringsfil\n",
      "./TLL-api-motor/Description.ini\n"
     ]
    }
   ],
   "source": [
    "import os\n",
    "from configparser import ConfigParser\n",
    "locations = []\n",
    "descriptions=[]\n",
    "headers=[]\n",
    "for root, dirs, files in os.walk(os.curdir):\n",
    "    for file in files:\n",
    "        if file.endswith(\"index.html\") & (root != os.curdir):\n",
    "            locations.append(os.path.join(os.path.abspath(root),file))\n",
    "            print(os.path.join(root,'Description.ini'))\n",
    "            if os.path.isfile(os.path.join(root,'Description.ini')):                \n",
    "                config = ConfigParser()\n",
    "                config.read(os.path.join(root,'Description.ini'))\n",
    "                \n",
    "                print(f\"{root} har forklaringsfil\")\n",
    "                descriptions.append(config.get('DOCUMENTATION', 'description'))\n",
    "                headers.append(config.get('DOCUMENTATION', 'header'))\n",
    "            else:\n",
    "                descriptions.append('')\n",
    "                headers.append(root)\n"
   ]
  },
  {
   "cell_type": "markdown",
   "metadata": {},
   "source": [
    "### Locations må være link til blob container istedenfor root over i Azure"
   ]
  },
  {
   "cell_type": "code",
   "execution_count": 16,
   "metadata": {},
   "outputs": [
    {
     "data": {
      "text/plain": [
       "['/Users/johannesalnes/Azure/IndexPage/UW-API/index.html',\n",
       " '/Users/johannesalnes/Azure/IndexPage/TLL-api-bolig/index.html',\n",
       " '/Users/johannesalnes/Azure/IndexPage/TLL-api-motor/index.html']"
      ]
     },
     "execution_count": 16,
     "metadata": {},
     "output_type": "execute_result"
    }
   ],
   "source": [
    "locations"
   ]
  },
  {
   "cell_type": "markdown",
   "metadata": {},
   "source": [
    "## Body \n",
    "\n",
    "Skal lese av og liste opp sidene som er i blob-store / funnet i filmappene over. Lagres en gang i en HTML funksjon og røres ikke utenom når layout skal endres"
   ]
  },
  {
   "cell_type": "code",
   "execution_count": 17,
   "metadata": {},
   "outputs": [],
   "source": [
    "body = r\"\"\"{% extends \"layout.html\" %}\n",
    "{% block content %}\n",
    "  <h3> Dette er starten på body som lister API'er</h3>\n",
    "  <br>\n",
    "  <ul>\n",
    "    {% for i in range(locations| length) %}\n",
    "        <li> <a href={{locations[i]}}> {{headers[i]}} - {{descriptions[i]}}</a></li></li>\n",
    "    {% endfor %}\n",
    "  </ul>\n",
    "  <h3> Slutt på API'er</h3>\n",
    "{% endblock %}\n",
    "\"\"\""
   ]
  },
  {
   "cell_type": "code",
   "execution_count": 18,
   "metadata": {},
   "outputs": [],
   "source": [
    "with open(os.path.join('templates','template.html'), 'w') as file:\n",
    "    file.write(body)"
   ]
  },
  {
   "cell_type": "markdown",
   "metadata": {},
   "source": [
    "## Templating\n",
    "\n",
    "Bruker Jinja til å sette inn sidene funnet i søk, rendere loopene definert i html filene og lagrer resultatet som en html fil. Det kan også brukes direkte i en flask fil, se app.py.\n",
    "\n",
    "Dette er det som må være i en Azure fuction sammen med en funksjon som finner mapper i blob."
   ]
  },
  {
   "cell_type": "code",
   "execution_count": 19,
   "metadata": {},
   "outputs": [],
   "source": [
    "file_loader = FileSystemLoader('templates')\n",
    "env = Environment(loader=file_loader)"
   ]
  },
  {
   "cell_type": "code",
   "execution_count": 20,
   "metadata": {},
   "outputs": [],
   "source": [
    "template_body = env.get_template(\"template.html\")"
   ]
  },
  {
   "cell_type": "code",
   "execution_count": 21,
   "metadata": {},
   "outputs": [],
   "source": [
    "with open('index.html', 'w') as file:\n",
    "    file.write(template_body.render(locations=locations, descriptions=descriptions, headers=headers))"
   ]
  },
  {
   "cell_type": "code",
   "execution_count": null,
   "metadata": {},
   "outputs": [],
   "source": []
  }
 ],
 "metadata": {
  "kernelspec": {
   "display_name": "Python 3.7.3 64-bit ('base': conda)",
   "language": "python",
   "name": "python37364bitbasecondaf4fb3af8bc5b4d958e157505e1aab1b1"
  },
  "language_info": {
   "codemirror_mode": {
    "name": "ipython",
    "version": 3
   },
   "file_extension": ".py",
   "mimetype": "text/x-python",
   "name": "python",
   "nbconvert_exporter": "python",
   "pygments_lexer": "ipython3",
   "version": "3.7.6"
  }
 },
 "nbformat": 4,
 "nbformat_minor": 4
}
